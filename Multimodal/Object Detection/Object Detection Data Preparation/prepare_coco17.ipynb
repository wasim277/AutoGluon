{
  "cells": [
    {
      "cell_type": "markdown",
      "id": "b13f338b",
      "metadata": {
        "id": "b13f338b"
      },
      "source": [
        "# AutoMM Detection - Prepare COCO2017 Dataset\n",
        "\n",
        "[COCO](https://cocodataset.org/#home) is a large-scale object detection, segmentation, and captioning dataset.\n",
        "For detection, the most commonly used version is COCO2017 with the largest number of training data.\n",
        "There are 80 classes, 123,287 images, 886,284 instances, and the median image ratio is 640 x 480.\n",
        "This tutorial will walk through the steps of preparing this dataset for Autogluon MultiModalPredictor.\n",
        "\n",
        "You need 42.7 GB disk space to download and extract this dataset. SSD is preferred over HDD because of its better performance.\n",
        "The total time to prepare the dataset depends on your Internet speed and disk performance. For example, it often takes 20 min on AWS EC2 with EBS.\n",
        "\n",
        "COCO has an [official download page](https://cocodataset.org/#download),\n",
        "but it's always easier to perform a one-step setup.\n",
        "We prepared a bash script for one-step downloading the COCO17 dataset:\n",
        "[download_coco17.sh](https://raw.githubusercontent.com/autogluon/autogluon/master/examples/automm/object_detection/download_coco17.sh).\n",
        "Or you can also use our cli tool `prepare_detection_dataset` that can download all datasets mentioned in our tutorials.\n",
        "This python script is in our code:\n",
        "[prepare_detection_dataset.py](https://raw.githubusercontent.com/autogluon/autogluon/master/multimodal/src/autogluon/multimodal/cli/prepare_detection_dataset.py),\n",
        "and you can also run it as a cli: `python3 -m autogluon.multimodal.cli.prepare_detection_dataset`.\n",
        "\n",
        "## Download with Python Script\n",
        "\n",
        "The python script does not show progress bar, but is promised to work on all major platforms.\n",
        "If you are working on a Unix system and needs a progress bar, try the bash script!\n",
        "\n",
        "You could either extract it in coco17 folder under current directory by running:"
      ]
    },
    {
      "cell_type": "markdown",
      "id": "36f13356",
      "metadata": {
        "id": "36f13356"
      },
      "source": [
        "```\n",
        "python3 -m autogluon.multimodal.cli.prepare_detection_dataset --dataset_name coco2017\n",
        "```\n"
      ]
    },
    {
      "cell_type": "markdown",
      "id": "968856fb",
      "metadata": {
        "id": "968856fb"
      },
      "source": [
        "or extract it in coco17 folder under a provided output path:"
      ]
    },
    {
      "cell_type": "markdown",
      "id": "c05aa067",
      "metadata": {
        "id": "c05aa067"
      },
      "source": [
        "```\n",
        "python3 -m autogluon.multimodal.cli.prepare_detection_dataset --dataset_name coco2017 --output_path ~/data\n",
        "```\n"
      ]
    },
    {
      "cell_type": "markdown",
      "id": "14d5a50c",
      "metadata": {
        "id": "14d5a50c"
      },
      "source": [
        "or make it shorter:"
      ]
    },
    {
      "cell_type": "markdown",
      "id": "5242d1cf",
      "metadata": {
        "id": "5242d1cf"
      },
      "source": [
        "```\n",
        "python3 -m autogluon.multimodal.cli.prepare_detection_dataset -d coco17 -o ~/data\n",
        "```\n"
      ]
    },
    {
      "cell_type": "markdown",
      "id": "2191336e",
      "metadata": {
        "id": "2191336e"
      },
      "source": [
        "## Download with Bash Script\n",
        "\n",
        "You could either extract it in coco17 folder under current directory by running:"
      ]
    },
    {
      "cell_type": "markdown",
      "id": "2e3aa6b9",
      "metadata": {
        "id": "2e3aa6b9"
      },
      "source": [
        "```\n",
        "bash download_coco17.sh\n",
        "```\n"
      ]
    },
    {
      "cell_type": "markdown",
      "id": "63b6b931",
      "metadata": {
        "id": "63b6b931"
      },
      "source": [
        "or extract it in coco17 folder under a provided output path:"
      ]
    },
    {
      "cell_type": "markdown",
      "id": "17bc6243",
      "metadata": {
        "id": "17bc6243"
      },
      "source": [
        "```\n",
        "bash download_coco17.sh ~/data\n",
        "```\n"
      ]
    },
    {
      "cell_type": "markdown",
      "id": "817ed3a7",
      "metadata": {
        "id": "817ed3a7"
      },
      "source": [
        "The command line output will show the progress bar:"
      ]
    },
    {
      "cell_type": "markdown",
      "id": "08f515b8",
      "metadata": {
        "id": "08f515b8"
      },
      "source": [
        "```\n",
        "extract data in ./coco17\n",
        "--2022-11-02 20:19:49--  http://images.cocodataset.org/zips/train2017.zip\n",
        "Resolving images.cocodataset.org (images.cocodataset.org)... 52.217.18.68\n",
        "Connecting to images.cocodataset.org (images.cocodataset.org)|52.217.18.68|:80... connected.\n",
        "HTTP request sent, awaiting response... 200 OK\n",
        "Length: 19336861798 (18G) [application/zip]\n",
        "Saving to: ‘train2017.zip’\n",
        "\n",
        "train2017.zip                          100%[=========================================================================>]  18.01G  27.0MB/s    in 7m 29s  \n",
        "\n",
        "2022-11-02 20:27:18 (41.1 MB/s) - ‘train2017.zip’ saved [19336861798/19336861798]\n",
        "\n",
        "--2022-11-02 20:27:18--  http://images.cocodataset.org/zips/val2017.zip\n",
        "Resolving images.cocodataset.org (images.cocodataset.org)... 54.231.171.137\n",
        "Connecting to images.cocodataset.org (images.cocodataset.org)|54.231.171.137|:80... connected.\n",
        "HTTP request sent, awaiting response... 200 OK\n",
        "Length: 815585330 (778M) [application/zip]\n",
        "Saving to: ‘val2017.zip’\n",
        "\n",
        "val2017.zip                            100%[=========================================================================>] 777.80M  43.0MB/s    in 20s     \n",
        "\n",
        "2022-11-02 20:27:38 (39.2 MB/s) - ‘val2017.zip’ saved [815585330/815585330]\n",
        "\n",
        "--2022-11-02 20:27:38--  http://images.cocodataset.org/zips/test2017.zip\n",
        "Resolving images.cocodataset.org (images.cocodataset.org)... 54.231.162.177\n",
        "Connecting to images.cocodataset.org (images.cocodataset.org)|54.231.162.177|:80... connected.\n",
        "HTTP request sent, awaiting response... 200 OK\n",
        "Length: 6646970404 (6.2G) [application/zip]\n",
        "Saving to: ‘test2017.zip’\n",
        "\n",
        "test2017.zip                           100%[=========================================================================>]   6.19G  42.3MB/s    in 2m 32s  \n",
        "\n",
        "2022-11-02 20:30:11 (41.6 MB/s) - ‘test2017.zip’ saved [6646970404/6646970404]\n",
        "\n",
        "--2022-11-02 20:30:11--  http://images.cocodataset.org/zips/unlabeled2017.zip\n",
        "Resolving images.cocodataset.org (images.cocodataset.org)... 52.217.71.116\n",
        "Connecting to images.cocodataset.org (images.cocodataset.org)|52.217.71.116|:80... connected.\n",
        "HTTP request sent, awaiting response... 200 OK\n",
        "Length: 20126613414 (19G) [application/zip]\n",
        "Saving to: ‘unlabeled2017.zip’\n",
        "\n",
        "unlabeled2017.zip                       33%[========================>                                                 ]   6.37G  43.2MB/s    eta 5m 45s\n",
        "```\n"
      ]
    },
    {
      "cell_type": "markdown",
      "id": "62ff6ea6",
      "metadata": {
        "id": "62ff6ea6"
      },
      "source": [
        "And after it finished, in coco17 folder it contains:"
      ]
    },
    {
      "cell_type": "markdown",
      "id": "6ba13a94",
      "metadata": {
        "id": "6ba13a94"
      },
      "source": [
        "```\n",
        "annotations  test2017  train2017  unlabeled2017  val2017\n",
        "```\n"
      ]
    }
  ],
  "metadata": {
    "colab": {
      "provenance": []
    },
    "language_info": {
      "name": "python"
    }
  },
  "nbformat": 4,
  "nbformat_minor": 5
}
