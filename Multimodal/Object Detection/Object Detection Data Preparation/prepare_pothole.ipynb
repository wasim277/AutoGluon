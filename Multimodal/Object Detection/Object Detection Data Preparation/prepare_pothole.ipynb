{
  "cells": [
    {
      "cell_type": "markdown",
      "id": "628eb02f",
      "metadata": {
        "id": "628eb02f"
      },
      "source": [
        "# AutoMM Detection - Prepare Pothole Dataset\n",
        "\n",
        "[Pothole](https://www.kaggle.com/datasets/andrewmvd/pothole-detection) is a small object detection dataset with 665 images,\n",
        "and has a specific domain, i.e. potholes on the road. This dataset will be used to show how to [AutoMM Detection - Fast Finetune on COCO Format Dataset](../finetune/detection_fast_finetune_coco.ipynb) and [AutoMM Detection - High Performance Finetune on COCO Format Dataset](../finetune/detection_high_performance_finetune_coco.ipynb).\n",
        "\n",
        "You need 1 GB disk space to download and extract this dataset. SSD is preferred over HDD because of its better performance.\n",
        "The total time to prepare the dataset depends on your Internet speed and disk performance. For example, it often takes 3 min on AWS EC2 with EBS.\n",
        "\n",
        "You can download the dataset from its [kaggle page](https://www.kaggle.com/datasets/andrewmvd/pothole-detection).\n",
        "Or you can also use our cli tool `prepare_detection_dataset` that can download all datasets mentioned in our tutorials.\n",
        "This python script is in our code:\n",
        "prepare_detection_dataset.py,\n",
        "and you can also run it as a cli: `python3 -m autogluon.multimodal.cli.prepare_detection_dataset`.\n",
        "\n",
        "## Download with Python Script\n",
        "\n",
        "You could either extract it in pothole folder under current directory by running:"
      ]
    },
    {
      "cell_type": "markdown",
      "id": "8b21fef4",
      "metadata": {
        "id": "8b21fef4"
      },
      "source": [
        "```\n",
        "python3 -m autogluon.multimodal.cli.prepare_detection_dataset --dataset_name pothole\n",
        "```\n"
      ]
    },
    {
      "cell_type": "markdown",
      "id": "ac579297",
      "metadata": {
        "id": "ac579297"
      },
      "source": [
        "or extract it in pothole folder under a provided output path:"
      ]
    },
    {
      "cell_type": "markdown",
      "id": "afd58f9a",
      "metadata": {
        "id": "afd58f9a"
      },
      "source": [
        "```\n",
        "python3 -m autogluon.multimodal.cli.prepare_detection_dataset --dataset_name pothole --output_path ~/data\n",
        "```\n"
      ]
    },
    {
      "cell_type": "markdown",
      "id": "0823af3c",
      "metadata": {
        "id": "0823af3c"
      },
      "source": [
        "or make it shorter:"
      ]
    },
    {
      "cell_type": "markdown",
      "id": "4298ed07",
      "metadata": {
        "id": "4298ed07"
      },
      "source": [
        "```\n",
        "python3 -m autogluon.multimodal.cli.prepare_detection_dataset -d pothole -o ~/data\n",
        "```\n"
      ]
    },
    {
      "cell_type": "markdown",
      "id": "e8e006cb",
      "metadata": {
        "id": "e8e006cb"
      },
      "source": [
        "The dataset downloaded with the provided tool is in COCO format and split to train/validation/test set with ratio 3:1:1.\n",
        "And the annotation files are:"
      ]
    },
    {
      "cell_type": "markdown",
      "id": "e1f56c4b",
      "metadata": {
        "id": "e1f56c4b"
      },
      "source": [
        "```\n",
        "pothole/Annotations/usersplit_train_cocoformat.json\n",
        "pothole/Annotations/usersplit_val_cocoformat.json\n",
        "pothole/Annotations/usersplit_test_cocoformat.json\n",
        "```\n"
      ]
    }
  ],
  "metadata": {
    "colab": {
      "provenance": []
    },
    "language_info": {
      "name": "python"
    }
  },
  "nbformat": 4,
  "nbformat_minor": 5
}
